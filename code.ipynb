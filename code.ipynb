{
 "cells": [
  {
   "cell_type": "code",
   "execution_count": 1,
   "id": "34cddd1e-0d60-4cc5-b8b1-381497b286c4",
   "metadata": {},
   "outputs": [],
   "source": [
    "# Imports and housekeeping\n",
    "import pandas as pd\n",
    "import numpy as np\n",
    "import matplotlib.pyplot as plt\n",
    "import seaborn as sns\n",
    "import statsmodels.api as sm\n",
    "from statsmodels.formula.api import logit\n",
    "from statsmodels.stats.outliers_influence import variance_inflation_factor\n",
    "from statsmodels.graphics.mosaicplot import mosaic\n",
    "from statsmodels.genmod import families\n",
    "from statsmodels.genmod.generalized_linear_model import GLM\n",
    "from sklearn.metrics import (confusion_matrix, accuracy_score)\n",
    "sns.set_theme(style=\"darkgrid\")"
   ]
  },
  {
   "cell_type": "code",
   "execution_count": 2,
   "id": "f7c78624-d093-4a29-8e11-ec44983a6a71",
   "metadata": {},
   "outputs": [],
   "source": [
    "# Import the main dataset\n",
    "df = pd.read_csv('churn_clean.csv',dtype={'locationid':np.int64})"
   ]
  },
  {
   "cell_type": "code",
   "execution_count": 3,
   "id": "938fc9fc-b06e-4f66-b8f8-3b2802fbb8c8",
   "metadata": {},
   "outputs": [
    {
     "name": "stdout",
     "output_type": "stream",
     "text": [
      "<class 'pandas.core.frame.DataFrame'>\n",
      "RangeIndex: 10000 entries, 0 to 9999\n",
      "Data columns (total 50 columns):\n",
      " #   Column                Non-Null Count  Dtype  \n",
      "---  ------                --------------  -----  \n",
      " 0   CaseOrder             10000 non-null  int64  \n",
      " 1   Customer_id           10000 non-null  object \n",
      " 2   Interaction           10000 non-null  object \n",
      " 3   UID                   10000 non-null  object \n",
      " 4   City                  10000 non-null  object \n",
      " 5   State                 10000 non-null  object \n",
      " 6   County                10000 non-null  object \n",
      " 7   Zip                   10000 non-null  int64  \n",
      " 8   Lat                   10000 non-null  float64\n",
      " 9   Lng                   10000 non-null  float64\n",
      " 10  Population            10000 non-null  int64  \n",
      " 11  Area                  10000 non-null  object \n",
      " 12  TimeZone              10000 non-null  object \n",
      " 13  Job                   10000 non-null  object \n",
      " 14  Children              10000 non-null  int64  \n",
      " 15  Age                   10000 non-null  int64  \n",
      " 16  Income                10000 non-null  float64\n",
      " 17  Marital               10000 non-null  object \n",
      " 18  Gender                10000 non-null  object \n",
      " 19  Churn                 10000 non-null  object \n",
      " 20  Outage_sec_perweek    10000 non-null  float64\n",
      " 21  Email                 10000 non-null  int64  \n",
      " 22  Contacts              10000 non-null  int64  \n",
      " 23  Yearly_equip_failure  10000 non-null  int64  \n",
      " 24  Techie                10000 non-null  object \n",
      " 25  Contract              10000 non-null  object \n",
      " 26  Port_modem            10000 non-null  object \n",
      " 27  Tablet                10000 non-null  object \n",
      " 28  InternetService       10000 non-null  object \n",
      " 29  Phone                 10000 non-null  object \n",
      " 30  Multiple              10000 non-null  object \n",
      " 31  OnlineSecurity        10000 non-null  object \n",
      " 32  OnlineBackup          10000 non-null  object \n",
      " 33  DeviceProtection      10000 non-null  object \n",
      " 34  TechSupport           10000 non-null  object \n",
      " 35  StreamingTV           10000 non-null  object \n",
      " 36  StreamingMovies       10000 non-null  object \n",
      " 37  PaperlessBilling      10000 non-null  object \n",
      " 38  PaymentMethod         10000 non-null  object \n",
      " 39  Tenure                10000 non-null  float64\n",
      " 40  MonthlyCharge         10000 non-null  float64\n",
      " 41  Bandwidth_GB_Year     10000 non-null  float64\n",
      " 42  Item1                 10000 non-null  int64  \n",
      " 43  Item2                 10000 non-null  int64  \n",
      " 44  Item3                 10000 non-null  int64  \n",
      " 45  Item4                 10000 non-null  int64  \n",
      " 46  Item5                 10000 non-null  int64  \n",
      " 47  Item6                 10000 non-null  int64  \n",
      " 48  Item7                 10000 non-null  int64  \n",
      " 49  Item8                 10000 non-null  int64  \n",
      "dtypes: float64(7), int64(16), object(27)\n",
      "memory usage: 3.8+ MB\n"
     ]
    }
   ],
   "source": [
    "# Display dataset info\n",
    "df.info()"
   ]
  },
  {
   "cell_type": "code",
   "execution_count": 4,
   "id": "de081ef7-9878-4fcc-bdab-081a87e18db3",
   "metadata": {},
   "outputs": [
    {
     "data": {
      "text/html": [
       "<div>\n",
       "<style scoped>\n",
       "    .dataframe tbody tr th:only-of-type {\n",
       "        vertical-align: middle;\n",
       "    }\n",
       "\n",
       "    .dataframe tbody tr th {\n",
       "        vertical-align: top;\n",
       "    }\n",
       "\n",
       "    .dataframe thead th {\n",
       "        text-align: right;\n",
       "    }\n",
       "</style>\n",
       "<table border=\"1\" class=\"dataframe\">\n",
       "  <thead>\n",
       "    <tr style=\"text-align: right;\">\n",
       "      <th></th>\n",
       "      <th>CaseOrder</th>\n",
       "      <th>Customer_id</th>\n",
       "      <th>Interaction</th>\n",
       "      <th>UID</th>\n",
       "      <th>City</th>\n",
       "      <th>State</th>\n",
       "      <th>County</th>\n",
       "      <th>Zip</th>\n",
       "      <th>Lat</th>\n",
       "      <th>Lng</th>\n",
       "      <th>...</th>\n",
       "      <th>MonthlyCharge</th>\n",
       "      <th>Bandwidth_GB_Year</th>\n",
       "      <th>Item1</th>\n",
       "      <th>Item2</th>\n",
       "      <th>Item3</th>\n",
       "      <th>Item4</th>\n",
       "      <th>Item5</th>\n",
       "      <th>Item6</th>\n",
       "      <th>Item7</th>\n",
       "      <th>Item8</th>\n",
       "    </tr>\n",
       "  </thead>\n",
       "  <tbody>\n",
       "    <tr>\n",
       "      <th>0</th>\n",
       "      <td>1</td>\n",
       "      <td>K409198</td>\n",
       "      <td>aa90260b-4141-4a24-8e36-b04ce1f4f77b</td>\n",
       "      <td>e885b299883d4f9fb18e39c75155d990</td>\n",
       "      <td>Point Baker</td>\n",
       "      <td>AK</td>\n",
       "      <td>Prince of Wales-Hyder</td>\n",
       "      <td>99927</td>\n",
       "      <td>56.25100</td>\n",
       "      <td>-133.37571</td>\n",
       "      <td>...</td>\n",
       "      <td>172.455519</td>\n",
       "      <td>904.536110</td>\n",
       "      <td>5</td>\n",
       "      <td>5</td>\n",
       "      <td>5</td>\n",
       "      <td>3</td>\n",
       "      <td>4</td>\n",
       "      <td>4</td>\n",
       "      <td>3</td>\n",
       "      <td>4</td>\n",
       "    </tr>\n",
       "    <tr>\n",
       "      <th>1</th>\n",
       "      <td>2</td>\n",
       "      <td>S120509</td>\n",
       "      <td>fb76459f-c047-4a9d-8af9-e0f7d4ac2524</td>\n",
       "      <td>f2de8bef964785f41a2959829830fb8a</td>\n",
       "      <td>West Branch</td>\n",
       "      <td>MI</td>\n",
       "      <td>Ogemaw</td>\n",
       "      <td>48661</td>\n",
       "      <td>44.32893</td>\n",
       "      <td>-84.24080</td>\n",
       "      <td>...</td>\n",
       "      <td>242.632554</td>\n",
       "      <td>800.982766</td>\n",
       "      <td>3</td>\n",
       "      <td>4</td>\n",
       "      <td>3</td>\n",
       "      <td>3</td>\n",
       "      <td>4</td>\n",
       "      <td>3</td>\n",
       "      <td>4</td>\n",
       "      <td>4</td>\n",
       "    </tr>\n",
       "    <tr>\n",
       "      <th>2</th>\n",
       "      <td>3</td>\n",
       "      <td>K191035</td>\n",
       "      <td>344d114c-3736-4be5-98f7-c72c281e2d35</td>\n",
       "      <td>f1784cfa9f6d92ae816197eb175d3c71</td>\n",
       "      <td>Yamhill</td>\n",
       "      <td>OR</td>\n",
       "      <td>Yamhill</td>\n",
       "      <td>97148</td>\n",
       "      <td>45.35589</td>\n",
       "      <td>-123.24657</td>\n",
       "      <td>...</td>\n",
       "      <td>159.947583</td>\n",
       "      <td>2054.706961</td>\n",
       "      <td>4</td>\n",
       "      <td>4</td>\n",
       "      <td>2</td>\n",
       "      <td>4</td>\n",
       "      <td>4</td>\n",
       "      <td>3</td>\n",
       "      <td>3</td>\n",
       "      <td>3</td>\n",
       "    </tr>\n",
       "    <tr>\n",
       "      <th>3</th>\n",
       "      <td>4</td>\n",
       "      <td>D90850</td>\n",
       "      <td>abfa2b40-2d43-4994-b15a-989b8c79e311</td>\n",
       "      <td>dc8a365077241bb5cd5ccd305136b05e</td>\n",
       "      <td>Del Mar</td>\n",
       "      <td>CA</td>\n",
       "      <td>San Diego</td>\n",
       "      <td>92014</td>\n",
       "      <td>32.96687</td>\n",
       "      <td>-117.24798</td>\n",
       "      <td>...</td>\n",
       "      <td>119.956840</td>\n",
       "      <td>2164.579412</td>\n",
       "      <td>4</td>\n",
       "      <td>4</td>\n",
       "      <td>4</td>\n",
       "      <td>2</td>\n",
       "      <td>5</td>\n",
       "      <td>4</td>\n",
       "      <td>3</td>\n",
       "      <td>3</td>\n",
       "    </tr>\n",
       "    <tr>\n",
       "      <th>4</th>\n",
       "      <td>5</td>\n",
       "      <td>K662701</td>\n",
       "      <td>68a861fd-0d20-4e51-a587-8a90407ee574</td>\n",
       "      <td>aabb64a116e83fdc4befc1fbab1663f9</td>\n",
       "      <td>Needville</td>\n",
       "      <td>TX</td>\n",
       "      <td>Fort Bend</td>\n",
       "      <td>77461</td>\n",
       "      <td>29.38012</td>\n",
       "      <td>-95.80673</td>\n",
       "      <td>...</td>\n",
       "      <td>149.948316</td>\n",
       "      <td>271.493436</td>\n",
       "      <td>4</td>\n",
       "      <td>4</td>\n",
       "      <td>4</td>\n",
       "      <td>3</td>\n",
       "      <td>4</td>\n",
       "      <td>4</td>\n",
       "      <td>4</td>\n",
       "      <td>5</td>\n",
       "    </tr>\n",
       "  </tbody>\n",
       "</table>\n",
       "<p>5 rows × 50 columns</p>\n",
       "</div>"
      ],
      "text/plain": [
       "   CaseOrder Customer_id                           Interaction  \\\n",
       "0          1     K409198  aa90260b-4141-4a24-8e36-b04ce1f4f77b   \n",
       "1          2     S120509  fb76459f-c047-4a9d-8af9-e0f7d4ac2524   \n",
       "2          3     K191035  344d114c-3736-4be5-98f7-c72c281e2d35   \n",
       "3          4      D90850  abfa2b40-2d43-4994-b15a-989b8c79e311   \n",
       "4          5     K662701  68a861fd-0d20-4e51-a587-8a90407ee574   \n",
       "\n",
       "                                UID         City State                 County  \\\n",
       "0  e885b299883d4f9fb18e39c75155d990  Point Baker    AK  Prince of Wales-Hyder   \n",
       "1  f2de8bef964785f41a2959829830fb8a  West Branch    MI                 Ogemaw   \n",
       "2  f1784cfa9f6d92ae816197eb175d3c71      Yamhill    OR                Yamhill   \n",
       "3  dc8a365077241bb5cd5ccd305136b05e      Del Mar    CA              San Diego   \n",
       "4  aabb64a116e83fdc4befc1fbab1663f9    Needville    TX              Fort Bend   \n",
       "\n",
       "     Zip       Lat        Lng  ...  MonthlyCharge Bandwidth_GB_Year Item1  \\\n",
       "0  99927  56.25100 -133.37571  ...     172.455519        904.536110     5   \n",
       "1  48661  44.32893  -84.24080  ...     242.632554        800.982766     3   \n",
       "2  97148  45.35589 -123.24657  ...     159.947583       2054.706961     4   \n",
       "3  92014  32.96687 -117.24798  ...     119.956840       2164.579412     4   \n",
       "4  77461  29.38012  -95.80673  ...     149.948316        271.493436     4   \n",
       "\n",
       "  Item2  Item3  Item4  Item5 Item6 Item7 Item8  \n",
       "0     5      5      3      4     4     3     4  \n",
       "1     4      3      3      4     3     4     4  \n",
       "2     4      2      4      4     3     3     3  \n",
       "3     4      4      2      5     4     3     3  \n",
       "4     4      4      3      4     4     4     5  \n",
       "\n",
       "[5 rows x 50 columns]"
      ]
     },
     "execution_count": 4,
     "metadata": {},
     "output_type": "execute_result"
    }
   ],
   "source": [
    "# Display dataset top 5 rows\n",
    "df.head()"
   ]
  },
  {
   "cell_type": "code",
   "execution_count": 5,
   "id": "1633a87a-3c61-4107-942a-9371dba3f534",
   "metadata": {},
   "outputs": [],
   "source": [
    "# Trim dataset to variables relevant to research question\n",
    "columns = ['Area', 'Children', 'Age', 'Income', 'Marital', 'Gender', 'Churn', 'Outage_sec_perweek', \n",
    "           'Yearly_equip_failure', 'Tenure', 'MonthlyCharge', 'Bandwidth_GB_Year']\n",
    "df_data = pd.DataFrame(df[columns])"
   ]
  },
  {
   "cell_type": "code",
   "execution_count": 6,
   "id": "2add4cb4-3356-4100-9d5b-287d5ddd4e97",
   "metadata": {},
   "outputs": [
    {
     "data": {
      "text/plain": [
       "Area                    False\n",
       "Children                False\n",
       "Age                     False\n",
       "Income                  False\n",
       "Marital                 False\n",
       "Gender                  False\n",
       "Churn                   False\n",
       "Outage_sec_perweek      False\n",
       "Yearly_equip_failure    False\n",
       "Tenure                  False\n",
       "MonthlyCharge           False\n",
       "Bandwidth_GB_Year       False\n",
       "dtype: bool"
      ]
     },
     "execution_count": 6,
     "metadata": {},
     "output_type": "execute_result"
    }
   ],
   "source": [
    "# Check data for null or missing values\n",
    "df_data.isna().any()"
   ]
  },
  {
   "cell_type": "code",
   "execution_count": 7,
   "id": "9c0bda96-ab25-4ee4-8395-1d308d484c69",
   "metadata": {},
   "outputs": [
    {
     "data": {
      "text/plain": [
       "0"
      ]
     },
     "execution_count": 7,
     "metadata": {},
     "output_type": "execute_result"
    }
   ],
   "source": [
    "# Check data for duplicated rows\n",
    "df_data.duplicated().sum()"
   ]
  },
  {
   "cell_type": "code",
   "execution_count": 8,
   "id": "051cec81-4827-40ba-a88a-12f84772b805",
   "metadata": {},
   "outputs": [
    {
     "data": {
      "text/html": [
       "<div>\n",
       "<style scoped>\n",
       "    .dataframe tbody tr th:only-of-type {\n",
       "        vertical-align: middle;\n",
       "    }\n",
       "\n",
       "    .dataframe tbody tr th {\n",
       "        vertical-align: top;\n",
       "    }\n",
       "\n",
       "    .dataframe thead th {\n",
       "        text-align: right;\n",
       "    }\n",
       "</style>\n",
       "<table border=\"1\" class=\"dataframe\">\n",
       "  <thead>\n",
       "    <tr style=\"text-align: right;\">\n",
       "      <th></th>\n",
       "      <th>Children</th>\n",
       "      <th>Age</th>\n",
       "      <th>Income</th>\n",
       "      <th>Outage_sec_perweek</th>\n",
       "      <th>Yearly_equip_failure</th>\n",
       "      <th>Tenure</th>\n",
       "      <th>MonthlyCharge</th>\n",
       "      <th>Bandwidth_GB_Year</th>\n",
       "    </tr>\n",
       "  </thead>\n",
       "  <tbody>\n",
       "    <tr>\n",
       "      <th>count</th>\n",
       "      <td>10000.0000</td>\n",
       "      <td>10000.000000</td>\n",
       "      <td>10000.000000</td>\n",
       "      <td>10000.000000</td>\n",
       "      <td>10000.000000</td>\n",
       "      <td>10000.000000</td>\n",
       "      <td>10000.000000</td>\n",
       "      <td>10000.000000</td>\n",
       "    </tr>\n",
       "    <tr>\n",
       "      <th>mean</th>\n",
       "      <td>2.0877</td>\n",
       "      <td>53.078400</td>\n",
       "      <td>39806.926771</td>\n",
       "      <td>10.001848</td>\n",
       "      <td>0.398000</td>\n",
       "      <td>34.526188</td>\n",
       "      <td>172.624816</td>\n",
       "      <td>3392.341550</td>\n",
       "    </tr>\n",
       "    <tr>\n",
       "      <th>std</th>\n",
       "      <td>2.1472</td>\n",
       "      <td>20.698882</td>\n",
       "      <td>28199.916702</td>\n",
       "      <td>2.976019</td>\n",
       "      <td>0.635953</td>\n",
       "      <td>26.443063</td>\n",
       "      <td>42.943094</td>\n",
       "      <td>2185.294852</td>\n",
       "    </tr>\n",
       "    <tr>\n",
       "      <th>min</th>\n",
       "      <td>0.0000</td>\n",
       "      <td>18.000000</td>\n",
       "      <td>348.670000</td>\n",
       "      <td>0.099747</td>\n",
       "      <td>0.000000</td>\n",
       "      <td>1.000259</td>\n",
       "      <td>79.978860</td>\n",
       "      <td>155.506715</td>\n",
       "    </tr>\n",
       "    <tr>\n",
       "      <th>25%</th>\n",
       "      <td>0.0000</td>\n",
       "      <td>35.000000</td>\n",
       "      <td>19224.717500</td>\n",
       "      <td>8.018214</td>\n",
       "      <td>0.000000</td>\n",
       "      <td>7.917694</td>\n",
       "      <td>139.979239</td>\n",
       "      <td>1236.470827</td>\n",
       "    </tr>\n",
       "    <tr>\n",
       "      <th>50%</th>\n",
       "      <td>1.0000</td>\n",
       "      <td>53.000000</td>\n",
       "      <td>33170.605000</td>\n",
       "      <td>10.018560</td>\n",
       "      <td>0.000000</td>\n",
       "      <td>35.430507</td>\n",
       "      <td>167.484700</td>\n",
       "      <td>3279.536903</td>\n",
       "    </tr>\n",
       "    <tr>\n",
       "      <th>75%</th>\n",
       "      <td>3.0000</td>\n",
       "      <td>71.000000</td>\n",
       "      <td>53246.170000</td>\n",
       "      <td>11.969485</td>\n",
       "      <td>1.000000</td>\n",
       "      <td>61.479795</td>\n",
       "      <td>200.734725</td>\n",
       "      <td>5586.141370</td>\n",
       "    </tr>\n",
       "    <tr>\n",
       "      <th>max</th>\n",
       "      <td>10.0000</td>\n",
       "      <td>89.000000</td>\n",
       "      <td>258900.700000</td>\n",
       "      <td>21.207230</td>\n",
       "      <td>6.000000</td>\n",
       "      <td>71.999280</td>\n",
       "      <td>290.160419</td>\n",
       "      <td>7158.981530</td>\n",
       "    </tr>\n",
       "  </tbody>\n",
       "</table>\n",
       "</div>"
      ],
      "text/plain": [
       "         Children           Age         Income  Outage_sec_perweek  \\\n",
       "count  10000.0000  10000.000000   10000.000000        10000.000000   \n",
       "mean       2.0877     53.078400   39806.926771           10.001848   \n",
       "std        2.1472     20.698882   28199.916702            2.976019   \n",
       "min        0.0000     18.000000     348.670000            0.099747   \n",
       "25%        0.0000     35.000000   19224.717500            8.018214   \n",
       "50%        1.0000     53.000000   33170.605000           10.018560   \n",
       "75%        3.0000     71.000000   53246.170000           11.969485   \n",
       "max       10.0000     89.000000  258900.700000           21.207230   \n",
       "\n",
       "       Yearly_equip_failure        Tenure  MonthlyCharge  Bandwidth_GB_Year  \n",
       "count          10000.000000  10000.000000   10000.000000       10000.000000  \n",
       "mean               0.398000     34.526188     172.624816        3392.341550  \n",
       "std                0.635953     26.443063      42.943094        2185.294852  \n",
       "min                0.000000      1.000259      79.978860         155.506715  \n",
       "25%                0.000000      7.917694     139.979239        1236.470827  \n",
       "50%                0.000000     35.430507     167.484700        3279.536903  \n",
       "75%                1.000000     61.479795     200.734725        5586.141370  \n",
       "max                6.000000     71.999280     290.160419        7158.981530  "
      ]
     },
     "execution_count": 8,
     "metadata": {},
     "output_type": "execute_result"
    }
   ],
   "source": [
    "# Display summary statistics for entire dataset - continuous variables\n",
    "df_data.describe()"
   ]
  },
  {
   "cell_type": "code",
   "execution_count": 9,
   "id": "04cdbd27-2e32-49fe-80d3-1091d63d502a",
   "metadata": {},
   "outputs": [
    {
     "data": {
      "text/html": [
       "<div>\n",
       "<style scoped>\n",
       "    .dataframe tbody tr th:only-of-type {\n",
       "        vertical-align: middle;\n",
       "    }\n",
       "\n",
       "    .dataframe tbody tr th {\n",
       "        vertical-align: top;\n",
       "    }\n",
       "\n",
       "    .dataframe thead th {\n",
       "        text-align: right;\n",
       "    }\n",
       "</style>\n",
       "<table border=\"1\" class=\"dataframe\">\n",
       "  <thead>\n",
       "    <tr style=\"text-align: right;\">\n",
       "      <th></th>\n",
       "      <th>Area</th>\n",
       "      <th>Marital</th>\n",
       "      <th>Gender</th>\n",
       "      <th>Churn</th>\n",
       "    </tr>\n",
       "  </thead>\n",
       "  <tbody>\n",
       "    <tr>\n",
       "      <th>count</th>\n",
       "      <td>10000</td>\n",
       "      <td>10000</td>\n",
       "      <td>10000</td>\n",
       "      <td>10000</td>\n",
       "    </tr>\n",
       "    <tr>\n",
       "      <th>unique</th>\n",
       "      <td>3</td>\n",
       "      <td>5</td>\n",
       "      <td>3</td>\n",
       "      <td>2</td>\n",
       "    </tr>\n",
       "    <tr>\n",
       "      <th>top</th>\n",
       "      <td>Suburban</td>\n",
       "      <td>Divorced</td>\n",
       "      <td>Female</td>\n",
       "      <td>No</td>\n",
       "    </tr>\n",
       "    <tr>\n",
       "      <th>freq</th>\n",
       "      <td>3346</td>\n",
       "      <td>2092</td>\n",
       "      <td>5025</td>\n",
       "      <td>7350</td>\n",
       "    </tr>\n",
       "  </tbody>\n",
       "</table>\n",
       "</div>"
      ],
      "text/plain": [
       "            Area   Marital  Gender  Churn\n",
       "count      10000     10000   10000  10000\n",
       "unique         3         5       3      2\n",
       "top     Suburban  Divorced  Female     No\n",
       "freq        3346      2092    5025   7350"
      ]
     },
     "execution_count": 9,
     "metadata": {},
     "output_type": "execute_result"
    }
   ],
   "source": [
    "# Display summary statistics for entire dataset - categorical variables\n",
    "df_data.describe(include = object)"
   ]
  },
  {
   "cell_type": "code",
   "execution_count": 10,
   "id": "832c1394-5bfe-4a9a-9315-4c28ca8aa0be",
   "metadata": {},
   "outputs": [],
   "source": [
    "# Initialize figure size settings\n",
    "plt.rcParams['figure.figsize'] = [10, 10]"
   ]
  },
  {
   "cell_type": "code",
   "execution_count": 11,
   "id": "81beb754-d7af-4b20-860e-b933902e8787",
   "metadata": {},
   "outputs": [
    {
     "data": {
      "text/plain": [
       "array([[<AxesSubplot:title={'center':'Children'}>,\n",
       "        <AxesSubplot:title={'center':'Age'}>,\n",
       "        <AxesSubplot:title={'center':'Income'}>],\n",
       "       [<AxesSubplot:title={'center':'Outage_sec_perweek'}>,\n",
       "        <AxesSubplot:title={'center':'Yearly_equip_failure'}>,\n",
       "        <AxesSubplot:title={'center':'Tenure'}>],\n",
       "       [<AxesSubplot:title={'center':'MonthlyCharge'}>,\n",
       "        <AxesSubplot:title={'center':'Bandwidth_GB_Year'}>,\n",
       "        <AxesSubplot:>]], dtype=object)"
      ]
     },
     "execution_count": 11,
     "metadata": {},
     "output_type": "execute_result"
    },
    {
     "data": {
      "image/png": "[encoded data removed]",
      "text/plain": [
       "<Figure size 720x720 with 9 Axes>"
      ]
     },
     "metadata": {},
     "output_type": "display_data"
    }
   ],
   "source": [
    "# Display histogram plots for distribution of continuous variables\n",
    "df_data.hist()"
   ]
  },
  {
   "cell_type": "code",
   "execution_count": 12,
   "id": "0374d9ec-5c3f-4539-bfb3-a827a0bee579",
   "metadata": {},
   "outputs": [
    {
     "data": {
      "image/png": "[encoded data removed]",
      "text/plain": [
       "<Figure size 720x720 with 1 Axes>"
      ]
     },
     "metadata": {},
     "output_type": "display_data"
    },
    {
     "data": {
      "text/plain": [
       "count    10000.000000\n",
       "mean      3392.341550\n",
       "std       2185.294852\n",
       "min        155.506715\n",
       "25%       1236.470827\n",
       "50%       3279.536903\n",
       "75%       5586.141370\n",
       "max       7158.981530\n",
       "Name: Bandwidth_GB_Year, dtype: float64"
      ]
     },
     "execution_count": 12,
     "metadata": {},
     "output_type": "execute_result"
    }
   ],
   "source": [
    "# Display histogram plot and summary statistics for Bandwidth_GB_Year\n",
    "df_data['Bandwidth_GB_Year'].hist(legend = True)\n",
    "plt.show()\n",
    "df_data['Bandwidth_GB_Year'].describe()"
   ]
  },
  {
   "cell_type": "code",
   "execution_count": 13,
   "id": "12a0d742-7a0d-4698-9073-54a434486d43",
   "metadata": {},
   "outputs": [
    {
     "data": {
      "image/png": "[encoded data removed]",
      "text/plain": [
       "<Figure size 720x720 with 1 Axes>"
      ]
     },
     "metadata": {},
     "output_type": "display_data"
    },
    {
     "data": {
      "text/plain": [
       "count    10000.0000\n",
       "mean         2.0877\n",
       "std          2.1472\n",
       "min          0.0000\n",
       "25%          0.0000\n",
       "50%          1.0000\n",
       "75%          3.0000\n",
       "max         10.0000\n",
       "Name: Children, dtype: float64"
      ]
     },
     "execution_count": 13,
     "metadata": {},
     "output_type": "execute_result"
    }
   ],
   "source": [
    "# Display histogram plot and summary statistics for Children\n",
    "df_data['Children'].hist(legend = True)\n",
    "plt.show()\n",
    "df_data['Children'].describe()"
   ]
  },
  {
   "cell_type": "code",
   "execution_count": 14,
   "id": "470b80d2-7a02-4403-85b6-13ff2f818d4f",
   "metadata": {},
   "outputs": [
    {
     "data": {
      "image/png": "[encoded data removed]",
      "text/plain": [
       "<Figure size 720x720 with 1 Axes>"
      ]
     },
     "metadata": {},
     "output_type": "display_data"
    },
    {
     "data": {
      "text/plain": [
       "count    10000.000000\n",
       "mean        53.078400\n",
       "std         20.698882\n",
       "min         18.000000\n",
       "25%         35.000000\n",
       "50%         53.000000\n",
       "75%         71.000000\n",
       "max         89.000000\n",
       "Name: Age, dtype: float64"
      ]
     },
     "execution_count": 14,
     "metadata": {},
     "output_type": "execute_result"
    }
   ],
   "source": [
    "# Display histogram plot and summary statistics for Age\n",
    "df_data['Age'].hist(legend = True)\n",
    "plt.show()\n",
    "df_data['Age'].describe()"
   ]
  },
  {
   "cell_type": "code",
   "execution_count": 15,
   "id": "52afa518-512e-4d10-929b-f29352865e5e",
   "metadata": {},
   "outputs": [
    {
     "data": {
      "image/png": "[encoded data removed]",
      "text/plain": [
       "<Figure size 720x720 with 1 Axes>"
      ]
     },
     "metadata": {},
     "output_type": "display_data"
    },
    {
     "data": {
      "text/plain": [
       "count     10000.000000\n",
       "mean      39806.926771\n",
       "std       28199.916702\n",
       "min         348.670000\n",
       "25%       19224.717500\n",
       "50%       33170.605000\n",
       "75%       53246.170000\n",
       "max      258900.700000\n",
       "Name: Income, dtype: float64"
      ]
     },
     "execution_count": 15,
     "metadata": {},
     "output_type": "execute_result"
    }
   ],
   "source": [
    "# Display histogram plot and summary statistics for Income\n",
    "df_data['Income'].hist(legend = True)\n",
    "plt.show()\n",
    "df_data['Income'].describe()"
   ]
  },
  {
   "cell_type": "code",
   "execution_count": 16,
   "id": "5e0b0d78-ce01-4f06-a5db-ae22099bbaf0",
   "metadata": {},
   "outputs": [
    {
     "data": {
      "image/png": "[encoded data removed]",
      "text/plain": [
       "<Figure size 720x720 with 1 Axes>"
      ]
     },
     "metadata": {},
     "output_type": "display_data"
    },
    {
     "data": {
      "text/plain": [
       "count    10000.000000\n",
       "mean        10.001848\n",
       "std          2.976019\n",
       "min          0.099747\n",
       "25%          8.018214\n",
       "50%         10.018560\n",
       "75%         11.969485\n",
       "max         21.207230\n",
       "Name: Outage_sec_perweek, dtype: float64"
      ]
     },
     "execution_count": 16,
     "metadata": {},
     "output_type": "execute_result"
    }
   ],
   "source": [
    "# Display histogram plot and summary statistics for Outage_sec_perweek\n",
    "df_data['Outage_sec_perweek'].hist(legend = True)\n",
    "plt.show()\n",
    "df_data['Outage_sec_perweek'].describe()"
   ]
  },
  {
   "cell_type": "code",
   "execution_count": 17,
   "id": "ab41b303-8b5d-4179-abf0-08bdb39f3613",
   "metadata": {},
   "outputs": [
    {
     "data": {
      "image/png": "[encoded data removed]",
      "text/plain": [
       "<Figure size 720x720 with 1 Axes>"
      ]
     },
     "metadata": {},
     "output_type": "display_data"
    },
    {
     "data": {
      "text/plain": [
       "count    10000.000000\n",
       "mean         0.398000\n",
       "std          0.635953\n",
       "min          0.000000\n",
       "25%          0.000000\n",
       "50%          0.000000\n",
       "75%          1.000000\n",
       "max          6.000000\n",
       "Name: Yearly_equip_failure, dtype: float64"
      ]
     },
     "execution_count": 17,
     "metadata": {},
     "output_type": "execute_result"
    }
   ],
   "source": [
    "# Display histogram plot and summary statistics for Yearly_equip_failure\n",
    "df_data['Yearly_equip_failure'].hist(legend = True)\n",
    "plt.show()\n",
    "df_data['Yearly_equip_failure'].describe()"
   ]
  },
  {
   "cell_type": "code",
   "execution_count": 18,
   "id": "f5ff137c-4ab8-49a0-856c-c968c1a17bd1",
   "metadata": {},
   "outputs": [
    {
     "data": {
      "image/png": "[encoded data removed]",
      "text/plain": [
       "<Figure size 720x720 with 1 Axes>"
      ]
     },
     "metadata": {},
     "output_type": "display_data"
    },
    {
     "data": {
      "text/plain": [
       "count    10000.000000\n",
       "mean        34.526188\n",
       "std         26.443063\n",
       "min          1.000259\n",
       "25%          7.917694\n",
       "50%         35.430507\n",
       "75%         61.479795\n",
       "max         71.999280\n",
       "Name: Tenure, dtype: float64"
      ]
     },
     "execution_count": 18,
     "metadata": {},
     "output_type": "execute_result"
    }
   ],
   "source": [
    "# Display histogram plot and summary statistics for Tenure\n",
    "df_data['Tenure'].hist(legend = True)\n",
    "plt.show()\n",
    "df_data['Tenure'].describe()"
   ]
  },
  {
   "cell_type": "code",
   "execution_count": 19,
   "id": "33465b34-1506-44ad-bc16-6a8d3fe6f4a9",
   "metadata": {},
   "outputs": [
    {
     "data": {
      "image/png": "[encoded data removed]",
      "text/plain": [
       "<Figure size 720x720 with 1 Axes>"
      ]
     },
     "metadata": {},
     "output_type": "display_data"
    },
    {
     "data": {
      "text/plain": [
       "count    10000.000000\n",
       "mean       172.624816\n",
       "std         42.943094\n",
       "min         79.978860\n",
       "25%        139.979239\n",
       "50%        167.484700\n",
       "75%        200.734725\n",
       "max        290.160419\n",
       "Name: MonthlyCharge, dtype: float64"
      ]
     },
     "execution_count": 19,
     "metadata": {},
     "output_type": "execute_result"
    }
   ],
   "source": [
    "# Display histogram plot and summary statistics for MonthlyCharge\n",
    "df_data['MonthlyCharge'].hist(legend = True)\n",
    "plt.show()\n",
    "df_data['MonthlyCharge'].describe()"
   ]
  },
  {
   "cell_type": "code",
   "execution_count": 20,
   "id": "a8899ac8-5671-4861-9634-f3e59e950296",
   "metadata": {},
   "outputs": [
    {
     "data": {
      "text/plain": [
       "<AxesSubplot:xlabel='Churn', ylabel='count'>"
      ]
     },
     "execution_count": 20,
     "metadata": {},
     "output_type": "execute_result"
    },
    {
     "data": {
      "image/png": "[encoded data removed]",
      "text/plain": [
       "<Figure size 1440x1440 with 4 Axes>"
      ]
     },
     "metadata": {},
     "output_type": "display_data"
    }
   ],
   "source": [
    "# Display countplots for distribution of categorical variables\n",
    "fig, ax = plt.subplots(figsize = (20,20), ncols = 2, nrows = 2)\n",
    "sns.countplot(x='Area', data=df_data, ax = ax[0][0])\n",
    "sns.countplot(x='Marital', data=df_data, ax = ax[0][1])\n",
    "sns.countplot(x='Gender', data=df_data, ax = ax[1][0])\n",
    "sns.countplot(x='Churn', data=df_data, ax = ax[1][1])"
   ]
  },
  {
   "cell_type": "code",
   "execution_count": 21,
   "id": "fa57fc72-ab90-4d5e-b71a-0a07fc0f7eff",
   "metadata": {},
   "outputs": [
    {
     "data": {
      "image/png": "[encoded data removed]",
      "text/plain": [
       "<Figure size 720x720 with 1 Axes>"
      ]
     },
     "metadata": {},
     "output_type": "display_data"
    },
    {
     "data": {
      "text/plain": [
       "count        10000\n",
       "unique           3\n",
       "top       Suburban\n",
       "freq          3346\n",
       "Name: Area, dtype: object"
      ]
     },
     "execution_count": 21,
     "metadata": {},
     "output_type": "execute_result"
    }
   ],
   "source": [
    "# Display countplot and summary statistics for Area\n",
    "sns.countplot(x='Area', data=df_data)\n",
    "plt.show()\n",
    "df_data['Area'].describe()"
   ]
  },
  {
   "cell_type": "code",
   "execution_count": 22,
   "id": "dadeec53-952c-4556-b047-0022dc2f6f17",
   "metadata": {},
   "outputs": [
    {
     "data": {
      "image/png": "[encoded data removed]",
      "text/plain": [
       "<Figure size 720x720 with 1 Axes>"
      ]
     },
     "metadata": {},
     "output_type": "display_data"
    },
    {
     "data": {
      "text/plain": [
       "count        10000\n",
       "unique           5\n",
       "top       Divorced\n",
       "freq          2092\n",
       "Name: Marital, dtype: object"
      ]
     },
     "execution_count": 22,
     "metadata": {},
     "output_type": "execute_result"
    }
   ],
   "source": [
    "# Display countplot and summary statistics for Marital\n",
    "sns.countplot(x='Marital', data=df_data)\n",
    "plt.show()\n",
    "df_data['Marital'].describe()"
   ]
  },
  {
   "cell_type": "code",
   "execution_count": 23,
   "id": "8caead60-6743-4c3f-a6d9-475e2c6d5682",
   "metadata": {},
   "outputs": [
    {
     "data": {
      "image/png": "[encoded data removed]",
      "text/plain": [
       "<Figure size 720x720 with 1 Axes>"
      ]
     },
     "metadata": {},
     "output_type": "display_data"
    },
    {
     "data": {
      "text/plain": [
       "count      10000\n",
       "unique         3\n",
       "top       Female\n",
       "freq        5025\n",
       "Name: Gender, dtype: object"
      ]
     },
     "execution_count": 23,
     "metadata": {},
     "output_type": "execute_result"
    }
   ],
   "source": [
    "# Display countplot and summary statistics for Gender\n",
    "sns.countplot(x='Gender', data=df_data)\n",
    "plt.show()\n",
    "df_data['Gender'].describe()"
   ]
  },
  {
   "cell_type": "code",
   "execution_count": 24,
   "id": "87586abb-ee31-451e-a765-4c88ed27bee0",
   "metadata": {},
   "outputs": [
    {
     "data": {
      "image/png": "[encoded data removed]",
      "text/plain": [
       "<Figure size 720x720 with 1 Axes>"
      ]
     },
     "metadata": {},
     "output_type": "display_data"
    },
    {
     "data": {
      "text/plain": [
       "count     10000\n",
       "unique        2\n",
       "top          No\n",
       "freq       7350\n",
       "Name: Churn, dtype: object"
      ]
     },
     "execution_count": 24,
     "metadata": {},
     "output_type": "execute_result"
    }
   ],
   "source": [
    "# Display countplot and summary statistics for Churn\n",
    "sns.countplot(x='Churn', data=df_data)\n",
    "plt.show()\n",
    "df_data['Churn'].describe()"
   ]
  },
  {
   "cell_type": "code",
   "execution_count": 25,
   "id": "5596c7b8-6e25-4328-bb2b-22c5744d2de5",
   "metadata": {},
   "outputs": [],
   "source": [
    "# Reassign data types\n",
    "for col in df_data:\n",
    "    if df_data[col].dtypes == 'object':\n",
    "        df_data[col] = df_data[col].astype('category')\n",
    "    if df_data[col].dtypes == 'int64':\n",
    "        df_data[col] = df_data[col].astype(int)\n",
    "    if df_data[col].dtypes == 'float64':\n",
    "        df_data[col] = df_data[col].astype(float)"
   ]
  },
  {
   "cell_type": "code",
   "execution_count": 26,
   "id": "d8d7a298-88b6-4410-8e48-ccf755302021",
   "metadata": {},
   "outputs": [
    {
     "name": "stdout",
     "output_type": "stream",
     "text": [
      "<class 'pandas.core.frame.DataFrame'>\n",
      "RangeIndex: 10000 entries, 0 to 9999\n",
      "Data columns (total 12 columns):\n",
      " #   Column                Non-Null Count  Dtype   \n",
      "---  ------                --------------  -----   \n",
      " 0   Area                  10000 non-null  category\n",
      " 1   Children              10000 non-null  int32   \n",
      " 2   Age                   10000 non-null  int32   \n",
      " 3   Income                10000 non-null  float64 \n",
      " 4   Marital               10000 non-null  category\n",
      " 5   Gender                10000 non-null  category\n",
      " 6   Churn                 10000 non-null  category\n",
      " 7   Outage_sec_perweek    10000 non-null  float64 \n",
      " 8   Yearly_equip_failure  10000 non-null  int32   \n",
      " 9   Tenure                10000 non-null  float64 \n",
      " 10  MonthlyCharge         10000 non-null  float64 \n",
      " 11  Bandwidth_GB_Year     10000 non-null  float64 \n",
      "dtypes: category(4), float64(5), int32(3)\n",
      "memory usage: 547.6 KB\n"
     ]
    }
   ],
   "source": [
    "# Display dataset info and observe data type changes\n",
    "df_data.info()"
   ]
  },
  {
   "cell_type": "code",
   "execution_count": 27,
   "id": "80c6bb56-24e6-4351-ab51-b97cf4a0d039",
   "metadata": {},
   "outputs": [],
   "source": [
    "# Use cat.codes for label encoding of 4 categorical variables\n",
    "df_data['Area_cat'] = df_data['Area'].cat.codes\n",
    "df_data['Marital_cat'] = df_data['Marital'].cat.codes\n",
    "df_data['Gender_cat'] = df_data['Gender'].cat.codes\n",
    "df_data['Churn_cat'] = df_data['Churn'].cat.codes"
   ]
  },
  {
   "cell_type": "code",
   "execution_count": 28,
   "id": "9efbb8ed-5b0e-4323-906b-a64d8f142d01",
   "metadata": {},
   "outputs": [
    {
     "data": {
      "text/html": [
       "<div>\n",
       "<style scoped>\n",
       "    .dataframe tbody tr th:only-of-type {\n",
       "        vertical-align: middle;\n",
       "    }\n",
       "\n",
       "    .dataframe tbody tr th {\n",
       "        vertical-align: top;\n",
       "    }\n",
       "\n",
       "    .dataframe thead th {\n",
       "        text-align: right;\n",
       "    }\n",
       "</style>\n",
       "<table border=\"1\" class=\"dataframe\">\n",
       "  <thead>\n",
       "    <tr style=\"text-align: right;\">\n",
       "      <th></th>\n",
       "      <th>Area</th>\n",
       "      <th>Marital</th>\n",
       "      <th>Gender</th>\n",
       "      <th>Churn</th>\n",
       "      <th>Area_cat</th>\n",
       "      <th>Marital_cat</th>\n",
       "      <th>Gender_cat</th>\n",
       "      <th>Churn_cat</th>\n",
       "    </tr>\n",
       "  </thead>\n",
       "  <tbody>\n",
       "    <tr>\n",
       "      <th>0</th>\n",
       "      <td>Urban</td>\n",
       "      <td>Widowed</td>\n",
       "      <td>Male</td>\n",
       "      <td>No</td>\n",
       "      <td>2</td>\n",
       "      <td>4</td>\n",
       "      <td>1</td>\n",
       "      <td>0</td>\n",
       "    </tr>\n",
       "    <tr>\n",
       "      <th>1</th>\n",
       "      <td>Urban</td>\n",
       "      <td>Married</td>\n",
       "      <td>Female</td>\n",
       "      <td>Yes</td>\n",
       "      <td>2</td>\n",
       "      <td>1</td>\n",
       "      <td>0</td>\n",
       "      <td>1</td>\n",
       "    </tr>\n",
       "    <tr>\n",
       "      <th>2</th>\n",
       "      <td>Urban</td>\n",
       "      <td>Widowed</td>\n",
       "      <td>Female</td>\n",
       "      <td>No</td>\n",
       "      <td>2</td>\n",
       "      <td>4</td>\n",
       "      <td>0</td>\n",
       "      <td>0</td>\n",
       "    </tr>\n",
       "    <tr>\n",
       "      <th>3</th>\n",
       "      <td>Suburban</td>\n",
       "      <td>Married</td>\n",
       "      <td>Male</td>\n",
       "      <td>No</td>\n",
       "      <td>1</td>\n",
       "      <td>1</td>\n",
       "      <td>1</td>\n",
       "      <td>0</td>\n",
       "    </tr>\n",
       "    <tr>\n",
       "      <th>4</th>\n",
       "      <td>Suburban</td>\n",
       "      <td>Separated</td>\n",
       "      <td>Male</td>\n",
       "      <td>Yes</td>\n",
       "      <td>1</td>\n",
       "      <td>3</td>\n",
       "      <td>1</td>\n",
       "      <td>1</td>\n",
       "    </tr>\n",
       "  </tbody>\n",
       "</table>\n",
       "</div>"
      ],
      "text/plain": [
       "       Area    Marital  Gender Churn  Area_cat  Marital_cat  Gender_cat  \\\n",
       "0     Urban    Widowed    Male    No         2            4           1   \n",
       "1     Urban    Married  Female   Yes         2            1           0   \n",
       "2     Urban    Widowed  Female    No         2            4           0   \n",
       "3  Suburban    Married    Male    No         1            1           1   \n",
       "4  Suburban  Separated    Male   Yes         1            3           1   \n",
       "\n",
       "   Churn_cat  \n",
       "0          0  \n",
       "1          1  \n",
       "2          0  \n",
       "3          0  \n",
       "4          1  "
      ]
     },
     "execution_count": 28,
     "metadata": {},
     "output_type": "execute_result"
    }
   ],
   "source": [
    "# Display dataset top 5 rows from label encoded variables\n",
    "df_data[['Area', 'Marital', 'Gender', 'Churn', 'Area_cat', 'Marital_cat', 'Gender_cat', 'Churn_cat']].head()"
   ]
  },
  {
   "cell_type": "code",
   "execution_count": 29,
   "id": "5688b013-da66-4cfe-9849-5ca9c4f3dcaf",
   "metadata": {},
   "outputs": [
    {
     "data": {
      "text/plain": [
       "<AxesSubplot:xlabel='Churn', ylabel='Gender_cat'>"
      ]
     },
     "execution_count": 29,
     "metadata": {},
     "output_type": "execute_result"
    },
    {
     "data": {
      "image/png": "[encoded data removed]",
      "text/plain": [
       "<Figure size 1440x1440 with 12 Axes>"
      ]
     },
     "metadata": {},
     "output_type": "display_data"
    }
   ],
   "source": [
    "# Display boxplots for bivariate analysis of variables - dependent variable = Churn\n",
    "fig, ax = plt.subplots(figsize = (20, 20), ncols = 4, nrows = 3)\n",
    "sns.boxplot(x = 'Churn', y = 'Children', data = df_data, ax = ax[0][0])\n",
    "sns.boxplot(x = 'Churn', y = 'Age', data = df_data, ax = ax[0][1])\n",
    "sns.boxplot(x = 'Churn', y = 'Income', data = df_data, ax = ax[0][2])\n",
    "sns.boxplot(x = 'Churn', y = 'Outage_sec_perweek', data = df_data, ax = ax[0][3])\n",
    "sns.boxplot(x = 'Churn', y = 'Yearly_equip_failure', data = df_data, ax = ax[1][0])\n",
    "sns.boxplot(x = 'Churn', y = 'Tenure', data = df_data, ax = ax[1][1])\n",
    "sns.boxplot(x = 'Churn', y = 'MonthlyCharge', data = df_data, ax = ax[1][2])\n",
    "sns.boxplot(x = 'Churn', y = 'Bandwidth_GB_Year', data = df_data, ax = ax[1][3])\n",
    "sns.boxplot(x = 'Churn', y = 'Area_cat', data = df_data, ax = ax[2][0])\n",
    "sns.boxplot(x = 'Churn', y = 'Marital_cat', data = df_data, ax = ax[2][1])\n",
    "sns.boxplot(x = 'Churn', y = 'Gender_cat', data = df_data, ax = ax[2][2])"
   ]
  },
  {
   "cell_type": "code",
   "execution_count": 30,
   "id": "192372cd-cdc0-4245-ac76-fc021c31853a",
   "metadata": {},
   "outputs": [],
   "source": [
    "# Export prepared dataframe to csv\n",
    "df_data.to_csv(r'C:\\Users\\wstul\\d208\\churn_clean_perpared.csv')"
   ]
  },
  {
   "cell_type": "code",
   "execution_count": 31,
   "id": "a8b0c1a6-f9d3-478c-a25b-0c1795329023",
   "metadata": {},
   "outputs": [
    {
     "name": "stdout",
     "output_type": "stream",
     "text": [
      "Optimization terminated successfully.\n",
      "         Current function value: 0.319631\n",
      "         Iterations 8\n",
      "                           Logit Regression Results                           \n",
      "==============================================================================\n",
      "Dep. Variable:              Churn_cat   No. Observations:                10000\n",
      "Model:                          Logit   Df Residuals:                     9988\n",
      "Method:                           MLE   Df Model:                           11\n",
      "Date:                Tue, 17 May 2022   Pseudo R-squ.:                  0.4472\n",
      "Time:                        13:50:45   Log-Likelihood:                -3196.3\n",
      "converged:                       True   LL-Null:                       -5782.2\n",
      "Covariance Type:            nonrobust   LLR p-value:                     0.000\n",
      "========================================================================================\n",
      "                           coef    std err          z      P>|z|      [0.025      0.975]\n",
      "----------------------------------------------------------------------------------------\n",
      "Intercept               -5.9769      0.228    -26.185      0.000      -6.424      -5.530\n",
      "Area_cat                 0.0027      0.038      0.072      0.943      -0.073       0.078\n",
      "Children                -0.0987      0.016     -6.365      0.000      -0.129      -0.068\n",
      "Age                      0.0115      0.002      7.171      0.000       0.008       0.015\n",
      "Income                5.129e-07   1.11e-06      0.460      0.645   -1.67e-06     2.7e-06\n",
      "Marital_cat              0.0402      0.022      1.829      0.067      -0.003       0.083\n",
      "Gender_cat              -0.0458      0.058     -0.790      0.429      -0.159       0.068\n",
      "Bandwidth_GB_Year        0.0029      0.000     20.149      0.000       0.003       0.003\n",
      "Outage_sec_perweek       0.0002      0.011      0.019      0.985      -0.020       0.021\n",
      "Yearly_equip_failure    -0.0255      0.050     -0.514      0.607      -0.123       0.072\n",
      "MonthlyCharge            0.0261      0.001     27.270      0.000       0.024       0.028\n",
      "Tenure                  -0.3171      0.012    -25.436      0.000      -0.342      -0.293\n",
      "========================================================================================\n"
     ]
    }
   ],
   "source": [
    "# Create initial model and display summary\n",
    "mdl_churn_vs_all = logit(\"Churn_cat ~ Area_cat + Children + Age + Income + Marital_cat + Gender_cat + Bandwidth_GB_Year + \\\n",
    "                        Outage_sec_perweek + Yearly_equip_failure + MonthlyCharge + Tenure\", data=df_data).fit()\n",
    "print(mdl_churn_vs_all.summary())"
   ]
  },
  {
   "cell_type": "code",
   "execution_count": 32,
   "id": "09df6c36-b434-4c47-a8f4-41dca78a29d0",
   "metadata": {},
   "outputs": [
    {
     "name": "stdout",
     "output_type": "stream",
     "text": [
      "Confusion Matrix : \n",
      " [[6794  556]\n",
      " [ 955 1695]]\n",
      "Test accuracy =  0.8489\n"
     ]
    },
    {
     "data": {
      "text/plain": [
       "(<Figure size 720x720 with 3 Axes>,\n",
       " {('0', '0'): (0.0, 0.0, 0.7313432835820897, 0.9212827988338191),\n",
       "  ('0', '1'): (0.0,\n",
       "   0.9246050579700318,\n",
       "   0.7313432835820897,\n",
       "   0.0753949420299681),\n",
       "  ('1', '0'): (0.7363184079601991, 0.0, 0.263681592039801, 0.3591800915188365),\n",
       "  ('1', '1'): (0.7363184079601991,\n",
       "   0.36250235065504915,\n",
       "   0.263681592039801,\n",
       "   0.6374976493449507)})"
      ]
     },
     "execution_count": 32,
     "metadata": {},
     "output_type": "execute_result"
    },
    {
     "data": {
      "image/png": "[encoded data removed]",
      "text/plain": [
       "<Figure size 720x720 with 3 Axes>"
      ]
     },
     "metadata": {},
     "output_type": "display_data"
    }
   ],
   "source": [
    "# generating predictions, confusion matrix, accuracy score and mosaic\n",
    "Xtest = df_data[['Area_cat', 'Children', 'Age', 'Income', 'Marital_cat', 'Gender_cat', 'Outage_sec_perweek', \n",
    "           'Yearly_equip_failure', 'Tenure', 'MonthlyCharge', 'Bandwidth_GB_Year']]\n",
    "ytest = df_data['Churn_cat']\n",
    "yhat = mdl_churn_vs_all.predict(Xtest)\n",
    "prediction = list(map(round, yhat))\n",
    "conf_matrix = confusion_matrix(ytest, prediction)\n",
    "print (\"Confusion Matrix : \\n\", conf_matrix)\n",
    "print('Test accuracy = ', accuracy_score(ytest, prediction))\n",
    "mosaic(conf_matrix)"
   ]
  },
  {
   "cell_type": "code",
   "execution_count": 33,
   "id": "4b89900d-178f-4ecc-b86f-aa75aa0dd8a8",
   "metadata": {},
   "outputs": [
    {
     "data": {
      "text/html": [
       "<div>\n",
       "<style scoped>\n",
       "    .dataframe tbody tr th:only-of-type {\n",
       "        vertical-align: middle;\n",
       "    }\n",
       "\n",
       "    .dataframe tbody tr th {\n",
       "        vertical-align: top;\n",
       "    }\n",
       "\n",
       "    .dataframe thead th {\n",
       "        text-align: right;\n",
       "    }\n",
       "</style>\n",
       "<table border=\"1\" class=\"dataframe\">\n",
       "  <thead>\n",
       "    <tr style=\"text-align: right;\">\n",
       "      <th></th>\n",
       "      <th>Children</th>\n",
       "      <th>Age</th>\n",
       "      <th>Income</th>\n",
       "      <th>Outage_sec_perweek</th>\n",
       "      <th>Yearly_equip_failure</th>\n",
       "      <th>Tenure</th>\n",
       "      <th>MonthlyCharge</th>\n",
       "      <th>Bandwidth_GB_Year</th>\n",
       "      <th>Area_cat</th>\n",
       "      <th>Marital_cat</th>\n",
       "      <th>Gender_cat</th>\n",
       "      <th>Churn_cat</th>\n",
       "    </tr>\n",
       "  </thead>\n",
       "  <tbody>\n",
       "    <tr>\n",
       "      <th>Children</th>\n",
       "      <td>1.000000</td>\n",
       "      <td>-0.029732</td>\n",
       "      <td>0.009942</td>\n",
       "      <td>0.001889</td>\n",
       "      <td>0.007321</td>\n",
       "      <td>-0.005091</td>\n",
       "      <td>-0.009781</td>\n",
       "      <td>0.025585</td>\n",
       "      <td>-0.007879</td>\n",
       "      <td>0.000045</td>\n",
       "      <td>0.006032</td>\n",
       "      <td>-0.004264</td>\n",
       "    </tr>\n",
       "    <tr>\n",
       "      <th>Age</th>\n",
       "      <td>-0.029732</td>\n",
       "      <td>1.000000</td>\n",
       "      <td>-0.004091</td>\n",
       "      <td>-0.008047</td>\n",
       "      <td>0.008577</td>\n",
       "      <td>0.016979</td>\n",
       "      <td>0.010729</td>\n",
       "      <td>-0.014724</td>\n",
       "      <td>0.011745</td>\n",
       "      <td>-0.009721</td>\n",
       "      <td>-0.005660</td>\n",
       "      <td>0.005630</td>\n",
       "    </tr>\n",
       "    <tr>\n",
       "      <th>Income</th>\n",
       "      <td>0.009942</td>\n",
       "      <td>-0.004091</td>\n",
       "      <td>1.000000</td>\n",
       "      <td>-0.010011</td>\n",
       "      <td>0.005423</td>\n",
       "      <td>0.002114</td>\n",
       "      <td>-0.003014</td>\n",
       "      <td>0.003674</td>\n",
       "      <td>0.002557</td>\n",
       "      <td>-0.005045</td>\n",
       "      <td>-0.018436</td>\n",
       "      <td>0.005937</td>\n",
       "    </tr>\n",
       "    <tr>\n",
       "      <th>Outage_sec_perweek</th>\n",
       "      <td>0.001889</td>\n",
       "      <td>-0.008047</td>\n",
       "      <td>-0.010011</td>\n",
       "      <td>1.000000</td>\n",
       "      <td>0.002909</td>\n",
       "      <td>0.002932</td>\n",
       "      <td>0.020496</td>\n",
       "      <td>0.004176</td>\n",
       "      <td>0.000239</td>\n",
       "      <td>-0.016180</td>\n",
       "      <td>0.008887</td>\n",
       "      <td>-0.000156</td>\n",
       "    </tr>\n",
       "    <tr>\n",
       "      <th>Yearly_equip_failure</th>\n",
       "      <td>0.007321</td>\n",
       "      <td>0.008577</td>\n",
       "      <td>0.005423</td>\n",
       "      <td>0.002909</td>\n",
       "      <td>1.000000</td>\n",
       "      <td>0.012435</td>\n",
       "      <td>-0.007172</td>\n",
       "      <td>0.012034</td>\n",
       "      <td>-0.006554</td>\n",
       "      <td>0.001183</td>\n",
       "      <td>0.014750</td>\n",
       "      <td>-0.015927</td>\n",
       "    </tr>\n",
       "    <tr>\n",
       "      <th>Tenure</th>\n",
       "      <td>-0.005091</td>\n",
       "      <td>0.016979</td>\n",
       "      <td>0.002114</td>\n",
       "      <td>0.002932</td>\n",
       "      <td>0.012435</td>\n",
       "      <td>1.000000</td>\n",
       "      <td>-0.003337</td>\n",
       "      <td>0.991495</td>\n",
       "      <td>-0.016615</td>\n",
       "      <td>0.003241</td>\n",
       "      <td>-0.016051</td>\n",
       "      <td>-0.485475</td>\n",
       "    </tr>\n",
       "    <tr>\n",
       "      <th>MonthlyCharge</th>\n",
       "      <td>-0.009781</td>\n",
       "      <td>0.010729</td>\n",
       "      <td>-0.003014</td>\n",
       "      <td>0.020496</td>\n",
       "      <td>-0.007172</td>\n",
       "      <td>-0.003337</td>\n",
       "      <td>1.000000</td>\n",
       "      <td>0.060406</td>\n",
       "      <td>0.003951</td>\n",
       "      <td>-0.002266</td>\n",
       "      <td>0.009147</td>\n",
       "      <td>0.372938</td>\n",
       "    </tr>\n",
       "    <tr>\n",
       "      <th>Bandwidth_GB_Year</th>\n",
       "      <td>0.025585</td>\n",
       "      <td>-0.014724</td>\n",
       "      <td>0.003674</td>\n",
       "      <td>0.004176</td>\n",
       "      <td>0.012034</td>\n",
       "      <td>0.991495</td>\n",
       "      <td>0.060406</td>\n",
       "      <td>1.000000</td>\n",
       "      <td>-0.016575</td>\n",
       "      <td>0.001499</td>\n",
       "      <td>-0.001469</td>\n",
       "      <td>-0.441669</td>\n",
       "    </tr>\n",
       "    <tr>\n",
       "      <th>Area_cat</th>\n",
       "      <td>-0.007879</td>\n",
       "      <td>0.011745</td>\n",
       "      <td>0.002557</td>\n",
       "      <td>0.000239</td>\n",
       "      <td>-0.006554</td>\n",
       "      <td>-0.016615</td>\n",
       "      <td>0.003951</td>\n",
       "      <td>-0.016575</td>\n",
       "      <td>1.000000</td>\n",
       "      <td>0.013733</td>\n",
       "      <td>0.004057</td>\n",
       "      <td>0.014166</td>\n",
       "    </tr>\n",
       "    <tr>\n",
       "      <th>Marital_cat</th>\n",
       "      <td>0.000045</td>\n",
       "      <td>-0.009721</td>\n",
       "      <td>-0.005045</td>\n",
       "      <td>-0.016180</td>\n",
       "      <td>0.001183</td>\n",
       "      <td>0.003241</td>\n",
       "      <td>-0.002266</td>\n",
       "      <td>0.001499</td>\n",
       "      <td>0.013733</td>\n",
       "      <td>1.000000</td>\n",
       "      <td>-0.008360</td>\n",
       "      <td>0.012716</td>\n",
       "    </tr>\n",
       "    <tr>\n",
       "      <th>Gender_cat</th>\n",
       "      <td>0.006032</td>\n",
       "      <td>-0.005660</td>\n",
       "      <td>-0.018436</td>\n",
       "      <td>0.008887</td>\n",
       "      <td>0.014750</td>\n",
       "      <td>-0.016051</td>\n",
       "      <td>0.009147</td>\n",
       "      <td>-0.001469</td>\n",
       "      <td>0.004057</td>\n",
       "      <td>-0.008360</td>\n",
       "      <td>1.000000</td>\n",
       "      <td>0.023919</td>\n",
       "    </tr>\n",
       "    <tr>\n",
       "      <th>Churn_cat</th>\n",
       "      <td>-0.004264</td>\n",
       "      <td>0.005630</td>\n",
       "      <td>0.005937</td>\n",
       "      <td>-0.000156</td>\n",
       "      <td>-0.015927</td>\n",
       "      <td>-0.485475</td>\n",
       "      <td>0.372938</td>\n",
       "      <td>-0.441669</td>\n",
       "      <td>0.014166</td>\n",
       "      <td>0.012716</td>\n",
       "      <td>0.023919</td>\n",
       "      <td>1.000000</td>\n",
       "    </tr>\n",
       "  </tbody>\n",
       "</table>\n",
       "</div>"
      ],
      "text/plain": [
       "                      Children       Age    Income  Outage_sec_perweek  \\\n",
       "Children              1.000000 -0.029732  0.009942            0.001889   \n",
       "Age                  -0.029732  1.000000 -0.004091           -0.008047   \n",
       "Income                0.009942 -0.004091  1.000000           -0.010011   \n",
       "Outage_sec_perweek    0.001889 -0.008047 -0.010011            1.000000   \n",
       "Yearly_equip_failure  0.007321  0.008577  0.005423            0.002909   \n",
       "Tenure               -0.005091  0.016979  0.002114            0.002932   \n",
       "MonthlyCharge        -0.009781  0.010729 -0.003014            0.020496   \n",
       "Bandwidth_GB_Year     0.025585 -0.014724  0.003674            0.004176   \n",
       "Area_cat             -0.007879  0.011745  0.002557            0.000239   \n",
       "Marital_cat           0.000045 -0.009721 -0.005045           -0.016180   \n",
       "Gender_cat            0.006032 -0.005660 -0.018436            0.008887   \n",
       "Churn_cat            -0.004264  0.005630  0.005937           -0.000156   \n",
       "\n",
       "                      Yearly_equip_failure    Tenure  MonthlyCharge  \\\n",
       "Children                          0.007321 -0.005091      -0.009781   \n",
       "Age                               0.008577  0.016979       0.010729   \n",
       "Income                            0.005423  0.002114      -0.003014   \n",
       "Outage_sec_perweek                0.002909  0.002932       0.020496   \n",
       "Yearly_equip_failure              1.000000  0.012435      -0.007172   \n",
       "Tenure                            0.012435  1.000000      -0.003337   \n",
       "MonthlyCharge                    -0.007172 -0.003337       1.000000   \n",
       "Bandwidth_GB_Year                 0.012034  0.991495       0.060406   \n",
       "Area_cat                         -0.006554 -0.016615       0.003951   \n",
       "Marital_cat                       0.001183  0.003241      -0.002266   \n",
       "Gender_cat                        0.014750 -0.016051       0.009147   \n",
       "Churn_cat                        -0.015927 -0.485475       0.372938   \n",
       "\n",
       "                      Bandwidth_GB_Year  Area_cat  Marital_cat  Gender_cat  \\\n",
       "Children                       0.025585 -0.007879     0.000045    0.006032   \n",
       "Age                           -0.014724  0.011745    -0.009721   -0.005660   \n",
       "Income                         0.003674  0.002557    -0.005045   -0.018436   \n",
       "Outage_sec_perweek             0.004176  0.000239    -0.016180    0.008887   \n",
       "Yearly_equip_failure           0.012034 -0.006554     0.001183    0.014750   \n",
       "Tenure                         0.991495 -0.016615     0.003241   -0.016051   \n",
       "MonthlyCharge                  0.060406  0.003951    -0.002266    0.009147   \n",
       "Bandwidth_GB_Year              1.000000 -0.016575     0.001499   -0.001469   \n",
       "Area_cat                      -0.016575  1.000000     0.013733    0.004057   \n",
       "Marital_cat                    0.001499  0.013733     1.000000   -0.008360   \n",
       "Gender_cat                    -0.001469  0.004057    -0.008360    1.000000   \n",
       "Churn_cat                     -0.441669  0.014166     0.012716    0.023919   \n",
       "\n",
       "                      Churn_cat  \n",
       "Children              -0.004264  \n",
       "Age                    0.005630  \n",
       "Income                 0.005937  \n",
       "Outage_sec_perweek    -0.000156  \n",
       "Yearly_equip_failure  -0.015927  \n",
       "Tenure                -0.485475  \n",
       "MonthlyCharge          0.372938  \n",
       "Bandwidth_GB_Year     -0.441669  \n",
       "Area_cat               0.014166  \n",
       "Marital_cat            0.012716  \n",
       "Gender_cat             0.023919  \n",
       "Churn_cat              1.000000  "
      ]
     },
     "execution_count": 33,
     "metadata": {},
     "output_type": "execute_result"
    }
   ],
   "source": [
    "df_data.corr()"
   ]
  },
  {
   "cell_type": "code",
   "execution_count": 34,
   "id": "f638b435-3d07-48f3-ae3e-aefb2eb4f8f7",
   "metadata": {},
   "outputs": [
    {
     "name": "stdout",
     "output_type": "stream",
     "text": [
      "                  IndVar         VIF\n",
      "0               Area_cat    2.425522\n",
      "1               Children    2.072716\n",
      "2                    Age    7.057506\n",
      "3                 Income    2.850023\n",
      "4            Marital_cat    2.810898\n",
      "5             Gender_cat    1.916246\n",
      "6     Outage_sec_perweek    9.240040\n",
      "7   Yearly_equip_failure    1.381941\n",
      "8                 Tenure  250.810141\n",
      "9          MonthlyCharge   18.436436\n",
      "10     Bandwidth_GB_Year  316.867066\n"
     ]
    }
   ],
   "source": [
    "# Perform variance inflation factor analysis for initial feature set\n",
    "X = df_data[['Area_cat', 'Children', 'Age', 'Income', 'Marital_cat', 'Gender_cat', 'Outage_sec_perweek', \n",
    "           'Yearly_equip_failure', 'Tenure', 'MonthlyCharge', 'Bandwidth_GB_Year']]\n",
    "vif_data = pd.DataFrame()\n",
    "vif_data['IndVar'] = X.columns\n",
    "vif_data['VIF'] = [variance_inflation_factor(X.values, i) for i in range(len(X.columns))]\n",
    "print(vif_data)"
   ]
  },
  {
   "cell_type": "code",
   "execution_count": 35,
   "id": "b1e60d42-b474-4c6a-b4f1-a9f7ef23c944",
   "metadata": {},
   "outputs": [],
   "source": [
    "# Drop 1 high VIF variable\n",
    "X = X.drop('Bandwidth_GB_Year', axis = 1)"
   ]
  },
  {
   "cell_type": "code",
   "execution_count": 36,
   "id": "3a75dc91-f8f3-4071-a5e4-f3d507d301a0",
   "metadata": {},
   "outputs": [
    {
     "name": "stdout",
     "output_type": "stream",
     "text": [
      "                 IndVar        VIF\n",
      "0              Area_cat   2.425161\n",
      "1              Children   1.897252\n",
      "2                   Age   6.460408\n",
      "3                Income   2.847797\n",
      "4           Marital_cat   2.810827\n",
      "5            Gender_cat   1.879624\n",
      "6    Outage_sec_perweek   9.233796\n",
      "7  Yearly_equip_failure   1.381910\n",
      "8                Tenure   2.605773\n",
      "9         MonthlyCharge  11.151377\n"
     ]
    }
   ],
   "source": [
    "# Perform variance inflation factor analysis for trimmed feature set\n",
    "vif_data = pd.DataFrame()\n",
    "vif_data['IndVar'] = X.columns\n",
    "vif_data['VIF'] = [variance_inflation_factor(X.values, i) for i in range(len(X.columns))]\n",
    "print(vif_data)"
   ]
  },
  {
   "cell_type": "code",
   "execution_count": 37,
   "id": "89f325dc-827d-4473-9aaf-e05097ab1c20",
   "metadata": {},
   "outputs": [],
   "source": [
    "# Drop 1 high VIF variable\n",
    "X = X.drop('Outage_sec_perweek', axis = 1)"
   ]
  },
  {
   "cell_type": "code",
   "execution_count": 38,
   "id": "3a99996c-7f34-430b-b9cf-a47239d2602f",
   "metadata": {},
   "outputs": [
    {
     "name": "stdout",
     "output_type": "stream",
     "text": [
      "                 IndVar       VIF\n",
      "0              Area_cat  2.398333\n",
      "1              Children  1.879604\n",
      "2                   Age  6.116797\n",
      "3                Income  2.807292\n",
      "4           Marital_cat  2.775227\n",
      "5            Gender_cat  1.863478\n",
      "6  Yearly_equip_failure  1.377841\n",
      "7                Tenure  2.569440\n",
      "8         MonthlyCharge  8.858859\n"
     ]
    }
   ],
   "source": [
    "# Perform variance inflation factor analysis for trimmed feature set\n",
    "vif_data = pd.DataFrame()\n",
    "vif_data['IndVar'] = X.columns\n",
    "vif_data['VIF'] = [variance_inflation_factor(X.values, i) for i in range(len(X.columns))]\n",
    "print(vif_data)"
   ]
  },
  {
   "cell_type": "code",
   "execution_count": 39,
   "id": "31dc41e4-5888-44e5-bb67-02521b9daa1a",
   "metadata": {},
   "outputs": [],
   "source": [
    "# Drop 1 high VIF variable\n",
    "X = X.drop('Age', axis = 1)"
   ]
  },
  {
   "cell_type": "code",
   "execution_count": 40,
   "id": "d2fb4f3b-5463-41fe-a550-dc08b0c10831",
   "metadata": {},
   "outputs": [
    {
     "name": "stdout",
     "output_type": "stream",
     "text": [
      "                 IndVar       VIF\n",
      "0              Area_cat  2.365519\n",
      "1              Children  1.872816\n",
      "2                Income  2.765505\n",
      "3           Marital_cat  2.739215\n",
      "4            Gender_cat  1.852198\n",
      "5  Yearly_equip_failure  1.372769\n",
      "6                Tenure  2.523888\n",
      "7         MonthlyCharge  6.719572\n"
     ]
    }
   ],
   "source": [
    "# Perform variance inflation factor analysis for trimmed feature set\n",
    "vif_data = pd.DataFrame()\n",
    "vif_data['IndVar'] = X.columns\n",
    "vif_data['VIF'] = [variance_inflation_factor(X.values, i) for i in range(len(X.columns))]\n",
    "print(vif_data)"
   ]
  },
  {
   "cell_type": "code",
   "execution_count": 41,
   "id": "425104fe-80c2-4dff-8437-35b0fc767d8c",
   "metadata": {},
   "outputs": [
    {
     "name": "stdout",
     "output_type": "stream",
     "text": [
      "Optimization terminated successfully.\n",
      "         Current function value: 0.341735\n",
      "         Iterations 8\n",
      "                           Logit Regression Results                           \n",
      "==============================================================================\n",
      "Dep. Variable:              Churn_cat   No. Observations:                10000\n",
      "Model:                          Logit   Df Residuals:                     9991\n",
      "Method:                           MLE   Df Model:                            8\n",
      "Date:                Tue, 17 May 2022   Pseudo R-squ.:                  0.4090\n",
      "Time:                        13:51:54   Log-Likelihood:                -3417.4\n",
      "converged:                       True   LL-Null:                       -5782.2\n",
      "Covariance Type:            nonrobust   LLR p-value:                     0.000\n",
      "========================================================================================\n",
      "                           coef    std err          z      P>|z|      [0.025      0.975]\n",
      "----------------------------------------------------------------------------------------\n",
      "Intercept               -5.2842      0.173    -30.593      0.000      -5.623      -4.946\n",
      "Area_cat                 0.0154      0.037      0.414      0.679      -0.057       0.088\n",
      "Children                -0.0091      0.014     -0.636      0.525      -0.037       0.019\n",
      "Income                8.294e-07   1.08e-06      0.770      0.441   -1.28e-06    2.94e-06\n",
      "Marital_cat              0.0332      0.021      1.570      0.116      -0.008       0.075\n",
      "Gender_cat               0.0960      0.055      1.736      0.083      -0.012       0.204\n",
      "Yearly_equip_failure    -0.0372      0.048     -0.774      0.439      -0.132       0.057\n",
      "MonthlyCharge            0.0332      0.001     37.107      0.000       0.031       0.035\n",
      "Tenure                  -0.0738      0.002    -41.777      0.000      -0.077      -0.070\n",
      "========================================================================================\n"
     ]
    }
   ],
   "source": [
    "# Create first reduced model and display summary\n",
    "mdl_churn_vs_reduced = logit(\"Churn_cat ~ Area_cat + Children + Income + Marital_cat + Gender_cat + Yearly_equip_failure + MonthlyCharge + Tenure\",\n",
    "                           data=df_data).fit()\n",
    "print(mdl_churn_vs_reduced.summary())"
   ]
  },
  {
   "cell_type": "code",
   "execution_count": 42,
   "id": "82c25b0b-d85a-4e8e-8dbd-3988cc63ff4a",
   "metadata": {},
   "outputs": [
    {
     "name": "stdout",
     "output_type": "stream",
     "text": [
      "Confusion Matrix : \n",
      " [[6738  612]\n",
      " [1047 1603]]\n",
      "Test accuracy =  0.8341\n"
     ]
    },
    {
     "data": {
      "text/plain": [
       "(<Figure size 720x720 with 3 Axes>,\n",
       " {('0', '0'): (0.0, 0.0, 0.7313432835820897, 0.9136890636653332),\n",
       "  ('0', '1'): (0.0,\n",
       "   0.9170113228015457,\n",
       "   0.7313432835820897,\n",
       "   0.08298867719845412),\n",
       "  ('1', '0'): (0.7363184079601991, 0.0, 0.263681592039801, 0.3937817338431643),\n",
       "  ('1', '1'): (0.7363184079601991,\n",
       "   0.39710399297937693,\n",
       "   0.263681592039801,\n",
       "   0.6028960070206231)})"
      ]
     },
     "execution_count": 42,
     "metadata": {},
     "output_type": "execute_result"
    },
    {
     "data": {
      "image/png": "[encoded data removed]",
      "text/plain": [
       "<Figure size 720x720 with 3 Axes>"
      ]
     },
     "metadata": {},
     "output_type": "display_data"
    }
   ],
   "source": [
    "# generating predictions, confusion matrix, accuracy score and mosaic\n",
    "Xtest = df_data[['Area_cat', 'Children', 'Income', 'Marital_cat', 'Gender_cat', \n",
    "           'Yearly_equip_failure', 'MonthlyCharge', 'Tenure']]\n",
    "ytest = df_data['Churn_cat']\n",
    "yhat = mdl_churn_vs_reduced.predict(Xtest)\n",
    "prediction = list(map(round, yhat))\n",
    "conf_matrix = confusion_matrix(ytest, prediction)\n",
    "print (\"Confusion Matrix : \\n\", conf_matrix)\n",
    "print('Test accuracy = ', accuracy_score(ytest, prediction))\n",
    "mosaic(conf_matrix)"
   ]
  },
  {
   "cell_type": "code",
   "execution_count": 43,
   "id": "e78af6f5-26ea-4106-b19e-00ce11fbf20f",
   "metadata": {},
   "outputs": [
    {
     "name": "stdout",
     "output_type": "stream",
     "text": [
      "Optimization terminated successfully.\n",
      "         Current function value: 0.342087\n",
      "         Iterations 8\n",
      "                           Logit Regression Results                           \n",
      "==============================================================================\n",
      "Dep. Variable:              Churn_cat   No. Observations:                10000\n",
      "Model:                          Logit   Df Residuals:                     9997\n",
      "Method:                           MLE   Df Model:                            2\n",
      "Date:                Tue, 17 May 2022   Pseudo R-squ.:                  0.4084\n",
      "Time:                        13:52:24   Log-Likelihood:                -3420.9\n",
      "converged:                       True   LL-Null:                       -5782.2\n",
      "Covariance Type:            nonrobust   LLR p-value:                     0.000\n",
      "=================================================================================\n",
      "                    coef    std err          z      P>|z|      [0.025      0.975]\n",
      "---------------------------------------------------------------------------------\n",
      "Intercept        -5.1525      0.150    -34.283      0.000      -5.447      -4.858\n",
      "MonthlyCharge     0.0332      0.001     37.119      0.000       0.031       0.035\n",
      "Tenure           -0.0738      0.002    -41.788      0.000      -0.077      -0.070\n",
      "=================================================================================\n"
     ]
    }
   ],
   "source": [
    "# Create further reduced model without high p-values and display summary\n",
    "mdl_churn_vs_features = logit(\"Churn_cat ~ MonthlyCharge + Tenure\",\n",
    "                           data=df_data).fit()\n",
    "print(mdl_churn_vs_features.summary())"
   ]
  },
  {
   "cell_type": "code",
   "execution_count": 44,
   "id": "9fa7b199-5803-475e-8372-c6380c53905a",
   "metadata": {},
   "outputs": [
    {
     "name": "stdout",
     "output_type": "stream",
     "text": [
      "Confusion Matrix : \n",
      " [[6738  612]\n",
      " [1050 1600]]\n",
      "Test accuracy =  0.8338\n"
     ]
    },
    {
     "data": {
      "text/plain": [
       "(<Figure size 720x720 with 3 Axes>,\n",
       " {('0', '0'): (0.0, 0.0, 0.7313432835820897, 0.9136890636653332),\n",
       "  ('0', '1'): (0.0,\n",
       "   0.9170113228015457,\n",
       "   0.7313432835820897,\n",
       "   0.08298867719845412),\n",
       "  ('1', '0'): (0.7363184079601991,\n",
       "   0.0,\n",
       "   0.263681592039801,\n",
       "   0.39491004826678366),\n",
       "  ('1', '1'): (0.7363184079601991,\n",
       "   0.3982323074029963,\n",
       "   0.263681592039801,\n",
       "   0.6017676925970036)})"
      ]
     },
     "execution_count": 44,
     "metadata": {},
     "output_type": "execute_result"
    },
    {
     "data": {
      "image/png": "[encoded data removed]",
      "text/plain": [
       "<Figure size 720x720 with 3 Axes>"
      ]
     },
     "metadata": {},
     "output_type": "display_data"
    }
   ],
   "source": [
    "# generating predictions, confusion matrix, accuracy score and mosaic\n",
    "Xtest = df_data[['MonthlyCharge', 'Tenure']]\n",
    "ytest = df_data['Churn_cat']\n",
    "yhat = mdl_churn_vs_features.predict(Xtest)\n",
    "prediction = list(map(round, yhat))\n",
    "conf_matrix = confusion_matrix(ytest, prediction)\n",
    "print (\"Confusion Matrix : \\n\", conf_matrix)\n",
    "print('Test accuracy = ', accuracy_score(ytest, prediction))\n",
    "mosaic(conf_matrix)"
   ]
  },
  {
   "cell_type": "code",
   "execution_count": 45,
   "id": "1d5fafcb-a0dc-409c-9d5d-27dbe2658549",
   "metadata": {},
   "outputs": [
    {
     "name": "stdout",
     "output_type": "stream",
     "text": [
      "Optimization terminated successfully.\n",
      "         Current function value: 0.342087\n",
      "         Iterations 8\n",
      "                           Logit Regression Results                           \n",
      "==============================================================================\n",
      "Dep. Variable:              Churn_cat   No. Observations:                10000\n",
      "Model:                          Logit   Df Residuals:                     9997\n",
      "Method:                           MLE   Df Model:                            2\n",
      "Date:                Tue, 17 May 2022   Pseudo R-squ.:                  0.4084\n",
      "Time:                        13:52:42   Log-Likelihood:                -3420.9\n",
      "converged:                       True   LL-Null:                       -5782.2\n",
      "Covariance Type:            nonrobust   LLR p-value:                     0.000\n",
      "=================================================================================\n",
      "                    coef    std err          z      P>|z|      [0.025      0.975]\n",
      "---------------------------------------------------------------------------------\n",
      "Intercept        -5.1525      0.150    -34.283      0.000      -5.447      -4.858\n",
      "MonthlyCharge     0.0332      0.001     37.119      0.000       0.031       0.035\n",
      "Tenure           -0.0738      0.002    -41.788      0.000      -0.077      -0.070\n",
      "=================================================================================\n"
     ]
    }
   ],
   "source": [
    "# Create final reduced model and display summary\n",
    "mdl_churn_vs_features_final = logit(\"Churn_cat ~ MonthlyCharge + Tenure\",\n",
    "                           data=df_data).fit()\n",
    "print(mdl_churn_vs_features_final.summary())"
   ]
  },
  {
   "cell_type": "code",
   "execution_count": 46,
   "id": "998acc62-e0b3-474f-80ec-3c55a10fb957",
   "metadata": {},
   "outputs": [
    {
     "name": "stdout",
     "output_type": "stream",
     "text": [
      "Orignal Confusion Matrix : \n",
      " [[6794  556]\n",
      " [ 955 1695]]\n",
      "Orignal accuracy =  0.8489\n",
      "Final Confusion Matrix : \n",
      " [[6738  612]\n",
      " [1050 1600]]\n",
      "Final accuracy =  0.8338\n"
     ]
    },
    {
     "data": {
      "text/plain": [
       "(<Figure size 720x720 with 3 Axes>,\n",
       " {('0', '0'): (0.0, 0.0, 0.7313432835820897, 0.9136890636653332),\n",
       "  ('0', '1'): (0.0,\n",
       "   0.9170113228015457,\n",
       "   0.7313432835820897,\n",
       "   0.08298867719845412),\n",
       "  ('1', '0'): (0.7363184079601991,\n",
       "   0.0,\n",
       "   0.263681592039801,\n",
       "   0.39491004826678366),\n",
       "  ('1', '1'): (0.7363184079601991,\n",
       "   0.3982323074029963,\n",
       "   0.263681592039801,\n",
       "   0.6017676925970036)})"
      ]
     },
     "execution_count": 46,
     "metadata": {},
     "output_type": "execute_result"
    },
    {
     "data": {
      "image/png": "[encoded data removed]",
      "text/plain": [
       "<Figure size 720x720 with 3 Axes>"
      ]
     },
     "metadata": {},
     "output_type": "display_data"
    },
    {
     "data": {
      "image/png": "[encoded data removed]",
      "text/plain": [
       "<Figure size 720x720 with 3 Axes>"
      ]
     },
     "metadata": {},
     "output_type": "display_data"
    }
   ],
   "source": [
    "# generating predictions, confusion matrix, accuracy score and mosaic for original and final models\n",
    "Xorig = df_data[['Area_cat', 'Children', 'Age', 'Income', 'Marital_cat', 'Gender_cat', 'Outage_sec_perweek', \n",
    "           'Yearly_equip_failure', 'Tenure', 'MonthlyCharge', 'Bandwidth_GB_Year']]\n",
    "yorig = df_data['Churn_cat']\n",
    "yhat_orig = mdl_churn_vs_all.predict(Xorig)\n",
    "prediction_orig = list(map(round, yhat_orig))\n",
    "conf_matrix_orig = confusion_matrix(yorig, prediction_orig)\n",
    "Xfinal = df_data[['MonthlyCharge', 'Tenure']]\n",
    "yfinal = df_data['Churn_cat']\n",
    "yhat_final = mdl_churn_vs_features_final.predict(Xfinal)\n",
    "prediction_final = list(map(round, yhat_final))\n",
    "conf_matrix_final = confusion_matrix(yfinal, prediction_final)\n",
    "print (\"Orignal Confusion Matrix : \\n\", conf_matrix_orig)\n",
    "print('Orignal accuracy = ', accuracy_score(yorig, prediction_orig))\n",
    "print (\"Final Confusion Matrix : \\n\", conf_matrix_final)\n",
    "print('Final accuracy = ', accuracy_score(yfinal, prediction_final))\n",
    "mosaic(conf_matrix_orig)\n",
    "mosaic(conf_matrix_final)"
   ]
  },
  {
   "cell_type": "code",
   "execution_count": 47,
   "id": "b3f43c95-e74b-4f28-a085-b2bed7f6d5e7",
   "metadata": {},
   "outputs": [
    {
     "data": {
      "text/plain": [
       "<AxesSubplot:xlabel='MonthlyCharge'>"
      ]
     },
     "execution_count": 47,
     "metadata": {},
     "output_type": "execute_result"
    },
    {
     "data": {
      "image/png": "[encoded data removed]",
      "text/plain": [
       "<Figure size 720x720 with 1 Axes>"
      ]
     },
     "metadata": {},
     "output_type": "display_data"
    }
   ],
   "source": [
    "sns.boxplot(x='MonthlyCharge',data=df_data)"
   ]
  },
  {
   "cell_type": "code",
   "execution_count": 48,
   "id": "93cca932-eaae-4f71-b2be-ce268177f926",
   "metadata": {},
   "outputs": [
    {
     "data": {
      "text/plain": [
       "<AxesSubplot:xlabel='Tenure'>"
      ]
     },
     "execution_count": 48,
     "metadata": {},
     "output_type": "execute_result"
    },
    {
     "data": {
      "image/png": "[encoded data removed]",
      "text/plain": [
       "<Figure size 720x720 with 1 Axes>"
      ]
     },
     "metadata": {},
     "output_type": "display_data"
    }
   ],
   "source": [
    "sns.boxplot(x='Tenure',data=df_data)"
   ]
  },
  {
   "cell_type": "code",
   "execution_count": 49,
   "id": "8cec958e-f6a1-455c-b160-90741dd4b794",
   "metadata": {},
   "outputs": [
    {
     "name": "stdout",
     "output_type": "stream",
     "text": [
      "                 Generalized Linear Model Regression Results                  \n",
      "==============================================================================\n",
      "Dep. Variable:              Churn_cat   No. Observations:                10000\n",
      "Model:                            GLM   Df Residuals:                     9995\n",
      "Model Family:                Binomial   Df Model:                            4\n",
      "Link Function:                  logit   Scale:                          1.0000\n",
      "Method:                          IRLS   Log-Likelihood:                -3420.6\n",
      "Date:                Tue, 17 May 2022   Deviance:                       6841.2\n",
      "Time:                        13:54:51   Pearson chi2:                 8.03e+03\n",
      "No. Iterations:                     7                                         \n",
      "Covariance Type:            nonrobust                                         \n",
      "===================================================================================================\n",
      "                                      coef    std err          z      P>|z|      [0.025      0.975]\n",
      "---------------------------------------------------------------------------------------------------\n",
      "MonthlyCharge                       0.0075      0.037      0.204      0.838      -0.064       0.079\n",
      "Tenure                             -0.0681      0.021     -3.226      0.001      -0.110      -0.027\n",
      "MonthlyCharge:Log_MonthlyCharge     0.0041      0.006      0.702      0.483      -0.007       0.016\n",
      "Tenure:Log_Tenure                  -0.0014      0.005     -0.285      0.776      -0.011       0.008\n",
      "const                              -4.4367      1.053     -4.212      0.000      -6.501      -2.372\n",
      "===================================================================================================\n"
     ]
    }
   ],
   "source": [
    "# Box-Tidwell\n",
    "# Define continuous variables\n",
    "continuous_var = ['MonthlyCharge', 'Tenure']\n",
    "\n",
    "# Add logit transform interaction terms (natural log) for continuous variables e.g.. Age * Log(Age)\n",
    "for var in continuous_var:\n",
    "    df_data[f'{var}:Log_{var}'] = df_data[var].apply(lambda x: x * np.log(x))\n",
    "\n",
    "# Keep columns related to continuous variables\n",
    "cols_to_keep = continuous_var + df_data.columns.tolist()[-len(continuous_var):]\n",
    "\n",
    "# Redefining variables to include interaction terms\n",
    "X_lt = df_data[cols_to_keep]\n",
    "y_lt = df_data['Churn_cat']\n",
    "\n",
    "# Add constant term\n",
    "X_lt_constant = sm.add_constant(X_lt, prepend=False)\n",
    "  \n",
    "# Building model and fit the data (using statsmodel's Logit)\n",
    "logit_results = GLM(y_lt, X_lt_constant, family=families.Binomial()).fit()\n",
    "\n",
    "# Display summary results\n",
    "print(logit_results.summary())"
   ]
  },
  {
   "cell_type": "code",
   "execution_count": null,
   "id": "ae16a071-99da-44c1-9f38-e1326336ac60",
   "metadata": {},
   "outputs": [],
   "source": []
  }
 ],
 "metadata": {
  "kernelspec": {
   "display_name": "Python 3",
   "language": "python",
   "name": "python3"
  },
  "language_info": {
   "codemirror_mode": {
    "name": "ipython",
    "version": 3
   },
   "file_extension": ".py",
   "mimetype": "text/x-python",
   "name": "python",
   "nbconvert_exporter": "python",
   "pygments_lexer": "ipython3",
   "version": "3.8.8"
  }
 },
 "nbformat": 4,
 "nbformat_minor": 5
}
